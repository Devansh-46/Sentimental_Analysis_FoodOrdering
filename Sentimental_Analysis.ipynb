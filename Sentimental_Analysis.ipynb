{
  "nbformat": 4,
  "nbformat_minor": 0,
  "metadata": {
    "colab": {
      "provenance": []
    },
    "kernelspec": {
      "name": "python3",
      "display_name": "Python 3"
    },
    "language_info": {
      "name": "python"
    }
  },
  "cells": [
    {
      "cell_type": "markdown",
      "source": [
        "Following notebook is a python project for Sentimental analysis of customers about food delivery companies (Swiggy, Zomato, etc.)"
      ],
      "metadata": {
        "id": "dGhJ86OuvdEe"
      }
    },
    {
      "cell_type": "code",
      "source": [
        "import sys\n",
        "import re\n",
        "import pandas as pd\n",
        "import matplotlib.pyplot as plt\n",
        "import nltk\n",
        "from nltk.sentiment.vader import SentimentIntensityAnalyzer\n",
        "nltk.download('vader_lexicon')"
      ],
      "metadata": {
        "id": "E840moD1v_bl",
        "colab": {
          "base_uri": "https://localhost:8080/"
        },
        "outputId": "cfa243d6-3725-4069-beb1-86847888be9f"
      },
      "execution_count": 3,
      "outputs": [
        {
          "output_type": "stream",
          "name": "stderr",
          "text": [
            "[nltk_data] Downloading package vader_lexicon to /root/nltk_data...\n",
            "[nltk_data]   Package vader_lexicon is already up-to-date!\n"
          ]
        },
        {
          "output_type": "execute_result",
          "data": {
            "text/plain": [
              "True"
            ]
          },
          "metadata": {},
          "execution_count": 3
        }
      ]
    },
    {
      "cell_type": "markdown",
      "source": [
        "Swiggy Data"
      ],
      "metadata": {
        "id": "lqjgvlWvwiOk"
      }
    },
    {
      "cell_type": "code",
      "source": [
        "\n",
        "#df = pd.read_excel (r'Path where the Excel file is stored\\File name.xlsx')\n",
        "df_1 = pd.read_excel (r'SwiggyCares_user_tweets.xlsx')\n",
        "# adding an row_id field to the dataframe, which will be useful for joining later\n",
        "df_1[\"row_id\"] = df_1.index + 1\n",
        "#print first 10 rows\n",
        "print (df_1.head(10))"
      ],
      "metadata": {
        "id": "ATKY_3gXfRdq",
        "colab": {
          "base_uri": "https://localhost:8080/"
        },
        "outputId": "b04bc028-f7c6-4660-c54d-1e567c0ba345"
      },
      "execution_count": 4,
      "outputs": [
        {
          "output_type": "stream",
          "name": "stdout",
          "text": [
            "              Tweet Id                                               Text  \\\n",
            "0  1669348498058403840  @Shiv_Prajapati Hello Shiv, that shouldn't hav...   \n",
            "1  1669347885480284163  @robiraG Thank you for sharing. As checked, we...   \n",
            "2  1669347404506869777  @XenaTweet Thanks for allowing us time to chec...   \n",
            "3  1669346629743435778  @nk1676 Your order has been delivered. Please ...   \n",
            "4  1669346466756976642  @Areweevee We are with you in DM to assist. Ha...   \n",
            "5  1669345665082875907  @pmearthy Hi Prakhar, our team has reached out...   \n",
            "6  1669345407917490177  @batlamobeen Thank you for your patience. Plea...   \n",
            "7  1669345330763296768  @zoshuuun Our team had reached out to you over...   \n",
            "8  1669345311205257217  @akhileshnair08  Hi Akhilesh, Please allow us ...   \n",
            "9  1669345197443121154  @aslam16061997 No worries, we will have the is...   \n",
            "\n",
            "           Name  Screen Name                       UTC  \\\n",
            "0  Swiggy Cares  SwiggyCares  2023-06-15T14:17:51.000Z   \n",
            "1  Swiggy Cares  SwiggyCares  2023-06-15T14:15:25.000Z   \n",
            "2  Swiggy Cares  SwiggyCares  2023-06-15T14:13:30.000Z   \n",
            "3  Swiggy Cares  SwiggyCares  2023-06-15T14:10:26.000Z   \n",
            "4  Swiggy Cares  SwiggyCares  2023-06-15T14:09:47.000Z   \n",
            "5  Swiggy Cares  SwiggyCares  2023-06-15T14:06:36.000Z   \n",
            "6  Swiggy Cares  SwiggyCares  2023-06-15T14:05:34.000Z   \n",
            "7  Swiggy Cares  SwiggyCares  2023-06-15T14:05:16.000Z   \n",
            "8  Swiggy Cares  SwiggyCares  2023-06-15T14:05:11.000Z   \n",
            "9  Swiggy Cares  SwiggyCares  2023-06-15T14:04:44.000Z   \n",
            "\n",
            "                       Created At  Favorites  Retweets Language  \\\n",
            "0  Thu Jun 15 14:17:51 +0000 2023          0         0       en   \n",
            "1  Thu Jun 15 14:15:25 +0000 2023          0         0       en   \n",
            "2  Thu Jun 15 14:13:30 +0000 2023          0         0       en   \n",
            "3  Thu Jun 15 14:10:26 +0000 2023          0         0       en   \n",
            "4  Thu Jun 15 14:09:47 +0000 2023          0         0       en   \n",
            "5  Thu Jun 15 14:06:36 +0000 2023          0         0       en   \n",
            "6  Thu Jun 15 14:05:34 +0000 2023          1         0       en   \n",
            "7  Thu Jun 15 14:05:16 +0000 2023          0         0       en   \n",
            "8  Thu Jun 15 14:05:11 +0000 2023          0         0       en   \n",
            "9  Thu Jun 15 14:04:44 +0000 2023          1         0       en   \n",
            "\n",
            "                                              Client Tweet Type  \\\n",
            "0  <a href=\"https://www.sprinklr.com\" rel=\"nofoll...      Reply   \n",
            "1  <a href=\"https://www.sprinklr.com\" rel=\"nofoll...      Reply   \n",
            "2  <a href=\"https://www.sprinklr.com\" rel=\"nofoll...      Reply   \n",
            "3  <a href=\"https://www.sprinklr.com\" rel=\"nofoll...      Reply   \n",
            "4  <a href=\"https://www.sprinklr.com\" rel=\"nofoll...      Reply   \n",
            "5  <a href=\"https://www.sprinklr.com\" rel=\"nofoll...      Reply   \n",
            "6  <a href=\"https://www.sprinklr.com\" rel=\"nofoll...      Reply   \n",
            "7  <a href=\"https://www.sprinklr.com\" rel=\"nofoll...      Reply   \n",
            "8  <a href=\"https://www.sprinklr.com\" rel=\"nofoll...      Reply   \n",
            "9  <a href=\"https://www.sprinklr.com\" rel=\"nofoll...      Reply   \n",
            "\n",
            "                            URLs  Hashtags  Mentions Media Type Media URLs  \\\n",
            "0                            NaN         0         1        NaN        NaN   \n",
            "1                            NaN         0         1        NaN        NaN   \n",
            "2  https://srkl.in/l/6014BFjjs0          0         1        NaN        NaN   \n",
            "3                            NaN         0         1        NaN        NaN   \n",
            "4                            NaN         0         1        NaN        NaN   \n",
            "5                            NaN         0         1        NaN        NaN   \n",
            "6                            NaN         0         1        NaN        NaN   \n",
            "7                            NaN         0         1        NaN        NaN   \n",
            "8                            NaN         0         1        NaN        NaN   \n",
            "9                            NaN         0         1        NaN        NaN   \n",
            "\n",
            "   row_id  \n",
            "0       1  \n",
            "1       2  \n",
            "2       3  \n",
            "3       4  \n",
            "4       5  \n",
            "5       6  \n",
            "6       7  \n",
            "7       8  \n",
            "8       9  \n",
            "9      10  \n"
          ]
        }
      ]
    },
    {
      "cell_type": "code",
      "source": [
        "\n",
        "#create a new data frame with \"id\" and \"comment\" fields\n",
        "df_subset = df_1[['row_id', 'Text', 'Tweet Id']].copy()\n",
        "#data clean-up\n",
        "#remove all non-aphabet characters\n",
        "df_subset['Text'] = df_subset['Text'].str.replace(\"[^a-zA-Z#]\", \" \")\n",
        "#covert to lower-case\n",
        "df_subset['Text'] = df_subset['Text'].str.casefold()\n",
        "print (df_subset.head(10))"
      ],
      "metadata": {
        "id": "7FRD_i4FgCNu",
        "colab": {
          "base_uri": "https://localhost:8080/"
        },
        "outputId": "f06ebd6e-5290-4b94-c429-91dacdebfa40"
      },
      "execution_count": 5,
      "outputs": [
        {
          "output_type": "stream",
          "name": "stdout",
          "text": [
            "   row_id                                               Text  \\\n",
            "0       1   shiv prajapati hello shiv  that shouldn t hav...   \n",
            "1       2   robirag thank you for sharing  as checked  we...   \n",
            "2       3   xenatweet thanks for allowing us time to chec...   \n",
            "3       4   nk     your order has been delivered  please ...   \n",
            "4       5   areweevee we are with you in dm to assist  ha...   \n",
            "5       6   pmearthy hi prakhar  our team has reached out...   \n",
            "6       7   batlamobeen thank you for your patience  plea...   \n",
            "7       8   zoshuuun our team had reached out to you over...   \n",
            "8       9   akhileshnair    hi akhilesh  please allow us ...   \n",
            "9      10   aslam         no worries  we will have the is...   \n",
            "\n",
            "              Tweet Id  \n",
            "0  1669348498058403840  \n",
            "1  1669347885480284163  \n",
            "2  1669347404506869777  \n",
            "3  1669346629743435778  \n",
            "4  1669346466756976642  \n",
            "5  1669345665082875907  \n",
            "6  1669345407917490177  \n",
            "7  1669345330763296768  \n",
            "8  1669345311205257217  \n",
            "9  1669345197443121154  \n"
          ]
        },
        {
          "output_type": "stream",
          "name": "stderr",
          "text": [
            "<ipython-input-5-ebed7843f446>:5: FutureWarning: The default value of regex will change from True to False in a future version.\n",
            "  df_subset['Text'] = df_subset['Text'].str.replace(\"[^a-zA-Z#]\", \" \")\n"
          ]
        }
      ]
    },
    {
      "cell_type": "code",
      "source": [
        "\n",
        "# set up empty dataframe for staging output\n",
        "df1=pd.DataFrame()\n",
        "df1['row_id']=['99999999999']\n",
        "df1['sentiment_type']='NA999NA'\n",
        "df1['sentiment_score']=0"
      ],
      "metadata": {
        "id": "0VqzXMW0gxBu"
      },
      "execution_count": 6,
      "outputs": []
    },
    {
      "cell_type": "code",
      "source": [
        "\n",
        "print('Processing sentiment analysis...')\n",
        "sid = SentimentIntensityAnalyzer()\n",
        "t_df = df1\n",
        "for index, row in df_subset.iterrows():\n",
        "    scores = sid.polarity_scores(row[1])\n",
        "    for key, value in scores.items():\n",
        "        temp = [key,value,row[0]]\n",
        "        df1['row_id']=row[0]\n",
        "        df1['sentiment_type']=key\n",
        "        df1['sentiment_score']=value\n",
        "        t_df = pd.concat([t_df, df1], ignore_index=True)\n",
        "#remove dummy row with row_id = 99999999999\n",
        "t_df_cleaned = t_df[t_df.row_id != '99999999999']\n",
        "#remove duplicates if any exist\n",
        "t_df_cleaned = t_df_cleaned.drop_duplicates()\n",
        "# only keep rows where sentiment_type = compound\n",
        "t_df_cleaned = t_df[t_df.sentiment_type == 'compound']\n",
        "print(t_df_cleaned.head(10))"
      ],
      "metadata": {
        "id": "4PBvg4cHg4Wz",
        "colab": {
          "base_uri": "https://localhost:8080/"
        },
        "outputId": "72692eba-ae3e-458d-a3ca-93931864568b"
      },
      "execution_count": 7,
      "outputs": [
        {
          "output_type": "stream",
          "name": "stdout",
          "text": [
            "Processing sentiment analysis...\n",
            "    row_id sentiment_type  sentiment_score\n",
            "4        1       compound           0.5423\n",
            "8        2       compound           0.8360\n",
            "12       3       compound           0.8402\n",
            "16       4       compound           0.6908\n",
            "20       5       compound           0.0000\n",
            "24       6       compound           0.4019\n",
            "28       7       compound           0.1779\n",
            "32       8       compound           0.8176\n",
            "36       9       compound           0.4939\n",
            "40      10       compound          -0.4019\n"
          ]
        }
      ]
    },
    {
      "cell_type": "code",
      "source": [
        "\n",
        "#merge dataframes\n",
        "df_output1 = pd.merge(df_1, t_df_cleaned, on='row_id', how='inner')\n",
        "print(df_output1.head(10))"
      ],
      "metadata": {
        "id": "V-1btaMMhw-f",
        "colab": {
          "base_uri": "https://localhost:8080/"
        },
        "outputId": "a825c064-33dc-48ee-b9a7-6098374112f5"
      },
      "execution_count": 8,
      "outputs": [
        {
          "output_type": "stream",
          "name": "stdout",
          "text": [
            "              Tweet Id                                               Text  \\\n",
            "0  1669348498058403840  @Shiv_Prajapati Hello Shiv, that shouldn't hav...   \n",
            "1  1669347885480284163  @robiraG Thank you for sharing. As checked, we...   \n",
            "2  1669347404506869777  @XenaTweet Thanks for allowing us time to chec...   \n",
            "3  1669346629743435778  @nk1676 Your order has been delivered. Please ...   \n",
            "4  1669346466756976642  @Areweevee We are with you in DM to assist. Ha...   \n",
            "5  1669345665082875907  @pmearthy Hi Prakhar, our team has reached out...   \n",
            "6  1669345407917490177  @batlamobeen Thank you for your patience. Plea...   \n",
            "7  1669345330763296768  @zoshuuun Our team had reached out to you over...   \n",
            "8  1669345311205257217  @akhileshnair08  Hi Akhilesh, Please allow us ...   \n",
            "9  1669345197443121154  @aslam16061997 No worries, we will have the is...   \n",
            "\n",
            "           Name  Screen Name                       UTC  \\\n",
            "0  Swiggy Cares  SwiggyCares  2023-06-15T14:17:51.000Z   \n",
            "1  Swiggy Cares  SwiggyCares  2023-06-15T14:15:25.000Z   \n",
            "2  Swiggy Cares  SwiggyCares  2023-06-15T14:13:30.000Z   \n",
            "3  Swiggy Cares  SwiggyCares  2023-06-15T14:10:26.000Z   \n",
            "4  Swiggy Cares  SwiggyCares  2023-06-15T14:09:47.000Z   \n",
            "5  Swiggy Cares  SwiggyCares  2023-06-15T14:06:36.000Z   \n",
            "6  Swiggy Cares  SwiggyCares  2023-06-15T14:05:34.000Z   \n",
            "7  Swiggy Cares  SwiggyCares  2023-06-15T14:05:16.000Z   \n",
            "8  Swiggy Cares  SwiggyCares  2023-06-15T14:05:11.000Z   \n",
            "9  Swiggy Cares  SwiggyCares  2023-06-15T14:04:44.000Z   \n",
            "\n",
            "                       Created At  Favorites  Retweets Language  \\\n",
            "0  Thu Jun 15 14:17:51 +0000 2023          0         0       en   \n",
            "1  Thu Jun 15 14:15:25 +0000 2023          0         0       en   \n",
            "2  Thu Jun 15 14:13:30 +0000 2023          0         0       en   \n",
            "3  Thu Jun 15 14:10:26 +0000 2023          0         0       en   \n",
            "4  Thu Jun 15 14:09:47 +0000 2023          0         0       en   \n",
            "5  Thu Jun 15 14:06:36 +0000 2023          0         0       en   \n",
            "6  Thu Jun 15 14:05:34 +0000 2023          1         0       en   \n",
            "7  Thu Jun 15 14:05:16 +0000 2023          0         0       en   \n",
            "8  Thu Jun 15 14:05:11 +0000 2023          0         0       en   \n",
            "9  Thu Jun 15 14:04:44 +0000 2023          1         0       en   \n",
            "\n",
            "                                              Client Tweet Type  \\\n",
            "0  <a href=\"https://www.sprinklr.com\" rel=\"nofoll...      Reply   \n",
            "1  <a href=\"https://www.sprinklr.com\" rel=\"nofoll...      Reply   \n",
            "2  <a href=\"https://www.sprinklr.com\" rel=\"nofoll...      Reply   \n",
            "3  <a href=\"https://www.sprinklr.com\" rel=\"nofoll...      Reply   \n",
            "4  <a href=\"https://www.sprinklr.com\" rel=\"nofoll...      Reply   \n",
            "5  <a href=\"https://www.sprinklr.com\" rel=\"nofoll...      Reply   \n",
            "6  <a href=\"https://www.sprinklr.com\" rel=\"nofoll...      Reply   \n",
            "7  <a href=\"https://www.sprinklr.com\" rel=\"nofoll...      Reply   \n",
            "8  <a href=\"https://www.sprinklr.com\" rel=\"nofoll...      Reply   \n",
            "9  <a href=\"https://www.sprinklr.com\" rel=\"nofoll...      Reply   \n",
            "\n",
            "                            URLs  Hashtags  Mentions Media Type Media URLs  \\\n",
            "0                            NaN         0         1        NaN        NaN   \n",
            "1                            NaN         0         1        NaN        NaN   \n",
            "2  https://srkl.in/l/6014BFjjs0          0         1        NaN        NaN   \n",
            "3                            NaN         0         1        NaN        NaN   \n",
            "4                            NaN         0         1        NaN        NaN   \n",
            "5                            NaN         0         1        NaN        NaN   \n",
            "6                            NaN         0         1        NaN        NaN   \n",
            "7                            NaN         0         1        NaN        NaN   \n",
            "8                            NaN         0         1        NaN        NaN   \n",
            "9                            NaN         0         1        NaN        NaN   \n",
            "\n",
            "   row_id sentiment_type  sentiment_score  \n",
            "0       1       compound           0.5423  \n",
            "1       2       compound           0.8360  \n",
            "2       3       compound           0.8402  \n",
            "3       4       compound           0.6908  \n",
            "4       5       compound           0.0000  \n",
            "5       6       compound           0.4019  \n",
            "6       7       compound           0.1779  \n",
            "7       8       compound           0.8176  \n",
            "8       9       compound           0.4939  \n",
            "9      10       compound          -0.4019  \n"
          ]
        }
      ]
    },
    {
      "cell_type": "code",
      "source": [
        "\n",
        "df_output1[[\"sentiment_score\"]].describe()"
      ],
      "metadata": {
        "id": "uzJdJiX2h-5x",
        "colab": {
          "base_uri": "https://localhost:8080/",
          "height": 300
        },
        "outputId": "d78737a3-1eed-4e1a-f236-cb0aa81bc44f"
      },
      "execution_count": 9,
      "outputs": [
        {
          "output_type": "execute_result",
          "data": {
            "text/plain": [
              "       sentiment_score\n",
              "count      3200.000000\n",
              "mean          0.360949\n",
              "std           0.366961\n",
              "min          -0.851800\n",
              "25%           0.025800\n",
              "50%           0.421500\n",
              "75%           0.648600\n",
              "max           0.960700"
            ],
            "text/html": [
              "\n",
              "  <div id=\"df-be751645-2daa-4fc7-836d-6639da766fef\">\n",
              "    <div class=\"colab-df-container\">\n",
              "      <div>\n",
              "<style scoped>\n",
              "    .dataframe tbody tr th:only-of-type {\n",
              "        vertical-align: middle;\n",
              "    }\n",
              "\n",
              "    .dataframe tbody tr th {\n",
              "        vertical-align: top;\n",
              "    }\n",
              "\n",
              "    .dataframe thead th {\n",
              "        text-align: right;\n",
              "    }\n",
              "</style>\n",
              "<table border=\"1\" class=\"dataframe\">\n",
              "  <thead>\n",
              "    <tr style=\"text-align: right;\">\n",
              "      <th></th>\n",
              "      <th>sentiment_score</th>\n",
              "    </tr>\n",
              "  </thead>\n",
              "  <tbody>\n",
              "    <tr>\n",
              "      <th>count</th>\n",
              "      <td>3200.000000</td>\n",
              "    </tr>\n",
              "    <tr>\n",
              "      <th>mean</th>\n",
              "      <td>0.360949</td>\n",
              "    </tr>\n",
              "    <tr>\n",
              "      <th>std</th>\n",
              "      <td>0.366961</td>\n",
              "    </tr>\n",
              "    <tr>\n",
              "      <th>min</th>\n",
              "      <td>-0.851800</td>\n",
              "    </tr>\n",
              "    <tr>\n",
              "      <th>25%</th>\n",
              "      <td>0.025800</td>\n",
              "    </tr>\n",
              "    <tr>\n",
              "      <th>50%</th>\n",
              "      <td>0.421500</td>\n",
              "    </tr>\n",
              "    <tr>\n",
              "      <th>75%</th>\n",
              "      <td>0.648600</td>\n",
              "    </tr>\n",
              "    <tr>\n",
              "      <th>max</th>\n",
              "      <td>0.960700</td>\n",
              "    </tr>\n",
              "  </tbody>\n",
              "</table>\n",
              "</div>\n",
              "      <button class=\"colab-df-convert\" onclick=\"convertToInteractive('df-be751645-2daa-4fc7-836d-6639da766fef')\"\n",
              "              title=\"Convert this dataframe to an interactive table.\"\n",
              "              style=\"display:none;\">\n",
              "        \n",
              "  <svg xmlns=\"http://www.w3.org/2000/svg\" height=\"24px\"viewBox=\"0 0 24 24\"\n",
              "       width=\"24px\">\n",
              "    <path d=\"M0 0h24v24H0V0z\" fill=\"none\"/>\n",
              "    <path d=\"M18.56 5.44l.94 2.06.94-2.06 2.06-.94-2.06-.94-.94-2.06-.94 2.06-2.06.94zm-11 1L8.5 8.5l.94-2.06 2.06-.94-2.06-.94L8.5 2.5l-.94 2.06-2.06.94zm10 10l.94 2.06.94-2.06 2.06-.94-2.06-.94-.94-2.06-.94 2.06-2.06.94z\"/><path d=\"M17.41 7.96l-1.37-1.37c-.4-.4-.92-.59-1.43-.59-.52 0-1.04.2-1.43.59L10.3 9.45l-7.72 7.72c-.78.78-.78 2.05 0 2.83L4 21.41c.39.39.9.59 1.41.59.51 0 1.02-.2 1.41-.59l7.78-7.78 2.81-2.81c.8-.78.8-2.07 0-2.86zM5.41 20L4 18.59l7.72-7.72 1.47 1.35L5.41 20z\"/>\n",
              "  </svg>\n",
              "      </button>\n",
              "      \n",
              "  <style>\n",
              "    .colab-df-container {\n",
              "      display:flex;\n",
              "      flex-wrap:wrap;\n",
              "      gap: 12px;\n",
              "    }\n",
              "\n",
              "    .colab-df-convert {\n",
              "      background-color: #E8F0FE;\n",
              "      border: none;\n",
              "      border-radius: 50%;\n",
              "      cursor: pointer;\n",
              "      display: none;\n",
              "      fill: #1967D2;\n",
              "      height: 32px;\n",
              "      padding: 0 0 0 0;\n",
              "      width: 32px;\n",
              "    }\n",
              "\n",
              "    .colab-df-convert:hover {\n",
              "      background-color: #E2EBFA;\n",
              "      box-shadow: 0px 1px 2px rgba(60, 64, 67, 0.3), 0px 1px 3px 1px rgba(60, 64, 67, 0.15);\n",
              "      fill: #174EA6;\n",
              "    }\n",
              "\n",
              "    [theme=dark] .colab-df-convert {\n",
              "      background-color: #3B4455;\n",
              "      fill: #D2E3FC;\n",
              "    }\n",
              "\n",
              "    [theme=dark] .colab-df-convert:hover {\n",
              "      background-color: #434B5C;\n",
              "      box-shadow: 0px 1px 3px 1px rgba(0, 0, 0, 0.15);\n",
              "      filter: drop-shadow(0px 1px 2px rgba(0, 0, 0, 0.3));\n",
              "      fill: #FFFFFF;\n",
              "    }\n",
              "  </style>\n",
              "\n",
              "      <script>\n",
              "        const buttonEl =\n",
              "          document.querySelector('#df-be751645-2daa-4fc7-836d-6639da766fef button.colab-df-convert');\n",
              "        buttonEl.style.display =\n",
              "          google.colab.kernel.accessAllowed ? 'block' : 'none';\n",
              "\n",
              "        async function convertToInteractive(key) {\n",
              "          const element = document.querySelector('#df-be751645-2daa-4fc7-836d-6639da766fef');\n",
              "          const dataTable =\n",
              "            await google.colab.kernel.invokeFunction('convertToInteractive',\n",
              "                                                     [key], {});\n",
              "          if (!dataTable) return;\n",
              "\n",
              "          const docLinkHtml = 'Like what you see? Visit the ' +\n",
              "            '<a target=\"_blank\" href=https://colab.research.google.com/notebooks/data_table.ipynb>data table notebook</a>'\n",
              "            + ' to learn more about interactive tables.';\n",
              "          element.innerHTML = '';\n",
              "          dataTable['output_type'] = 'display_data';\n",
              "          await google.colab.output.renderOutput(dataTable, element);\n",
              "          const docLink = document.createElement('div');\n",
              "          docLink.innerHTML = docLinkHtml;\n",
              "          element.appendChild(docLink);\n",
              "        }\n",
              "      </script>\n",
              "    </div>\n",
              "  </div>\n",
              "  "
            ]
          },
          "metadata": {},
          "execution_count": 9
        }
      ]
    },
    {
      "cell_type": "markdown",
      "source": [
        "Zomato Data"
      ],
      "metadata": {
        "id": "_WueOeK3wgFP"
      }
    },
    {
      "cell_type": "code",
      "source": [
        "#df = pd.read_excel (r'Path where the Excel file is stored\\File name.xlsx')\n",
        "df = pd.read_excel (r'zomatocare_user_tweets.xlsx')\n",
        "# adding an row_id field to the dataframe, which will be useful for joining later\n",
        "df[\"row_id\"] = df.index + 1\n",
        "#print first 10 rows\n",
        "print (df.head(10))"
      ],
      "metadata": {
        "id": "7DPPACWpuBZf",
        "colab": {
          "base_uri": "https://localhost:8080/"
        },
        "outputId": "97d4c609-d0e5-4074-81e3-75753ef871f8"
      },
      "execution_count": 10,
      "outputs": [
        {
          "output_type": "stream",
          "name": "stdout",
          "text": [
            "              Tweet Id                                               Text  \\\n",
            "0  1669349302681112582  @pranavpanwar17 The resolution for your stated...   \n",
            "1  1669348684532957184  @sanjays65872769 Hi Sanjay , we regret the inc...   \n",
            "2  1669347514661896193  @amit84925059864 Hi Amit, we understand your c...   \n",
            "3  1669347332671049731  @Gohan79751891 Hi Gohan, we've shared the reso...   \n",
            "4  1669347155683966979  @JayantaGho99241 Hi Jayanta, sad to hear about...   \n",
            "5  1669346861885554688  @pranavvgautam The resolution for your stated ...   \n",
            "6  1669346850045046787  @tanujgahlot007 Hi Tanuj, we've shared the res...   \n",
            "7  1669346395252473857  @sacredfeminity Hi there, we understand this c...   \n",
            "8  1669345479417802760  @KohliDeepraj Hi Deepraj, we understand your a...   \n",
            "9  1669345437529305089  @hiteshgarg72641 The resolution for your state...   \n",
            "\n",
            "          Name Screen Name                       UTC  \\\n",
            "0  zomato care  zomatocare  2023-06-15T14:21:03.000Z   \n",
            "1  zomato care  zomatocare  2023-06-15T14:18:36.000Z   \n",
            "2  zomato care  zomatocare  2023-06-15T14:13:57.000Z   \n",
            "3  zomato care  zomatocare  2023-06-15T14:13:13.000Z   \n",
            "4  zomato care  zomatocare  2023-06-15T14:12:31.000Z   \n",
            "5  zomato care  zomatocare  2023-06-15T14:11:21.000Z   \n",
            "6  zomato care  zomatocare  2023-06-15T14:11:18.000Z   \n",
            "7  zomato care  zomatocare  2023-06-15T14:09:30.000Z   \n",
            "8  zomato care  zomatocare  2023-06-15T14:05:51.000Z   \n",
            "9  zomato care  zomatocare  2023-06-15T14:05:41.000Z   \n",
            "\n",
            "                       Created At  Favorites  Retweets Language  \\\n",
            "0  Thu Jun 15 14:21:03 +0000 2023          0         0       en   \n",
            "1  Thu Jun 15 14:18:36 +0000 2023          0         0       en   \n",
            "2  Thu Jun 15 14:13:57 +0000 2023          0         0       en   \n",
            "3  Thu Jun 15 14:13:13 +0000 2023          0         0       en   \n",
            "4  Thu Jun 15 14:12:31 +0000 2023          0         0       en   \n",
            "5  Thu Jun 15 14:11:21 +0000 2023          0         0       en   \n",
            "6  Thu Jun 15 14:11:18 +0000 2023          0         0       en   \n",
            "7  Thu Jun 15 14:09:30 +0000 2023          0         0       en   \n",
            "8  Thu Jun 15 14:05:51 +0000 2023          0         0       en   \n",
            "9  Thu Jun 15 14:05:41 +0000 2023          0         0       en   \n",
            "\n",
            "                                              Client Tweet Type  \\\n",
            "0  <a href=\"https://konnectinsights.com\" rel=\"nof...      Reply   \n",
            "1  <a href=\"https://konnectinsights.com\" rel=\"nof...      Reply   \n",
            "2  <a href=\"https://konnectinsights.com\" rel=\"nof...      Reply   \n",
            "3  <a href=\"https://konnectinsights.com\" rel=\"nof...      Reply   \n",
            "4  <a href=\"https://konnectinsights.com\" rel=\"nof...      Reply   \n",
            "5  <a href=\"https://konnectinsights.com\" rel=\"nof...      Reply   \n",
            "6  <a href=\"https://konnectinsights.com\" rel=\"nof...      Reply   \n",
            "7  <a href=\"https://konnectinsights.com\" rel=\"nof...      Reply   \n",
            "8  <a href=\"https://konnectinsights.com\" rel=\"nof...      Reply   \n",
            "9  <a href=\"https://konnectinsights.com\" rel=\"nof...      Reply   \n",
            "\n",
            "                     URLs  Hashtags  Mentions Media Type Media URLs  row_id  \n",
            "0                     NaN         0         1        NaN        NaN       1  \n",
            "1  http://ki.show/aeVFeb          0         1        NaN        NaN       2  \n",
            "2                     NaN         0         1        NaN        NaN       3  \n",
            "3                     NaN         0         1        NaN        NaN       4  \n",
            "4  http://ki.show/HeVD6A          0         1        NaN        NaN       5  \n",
            "5                     NaN         0         1        NaN        NaN       6  \n",
            "6                     NaN         0         1        NaN        NaN       7  \n",
            "7  http://ki.show/EeVD4V          0         1        NaN        NaN       8  \n",
            "8                     NaN         0         1        NaN        NaN       9  \n",
            "9                     NaN         0         1        NaN        NaN      10  \n"
          ]
        }
      ]
    },
    {
      "cell_type": "code",
      "source": [
        "#create a new data frame with \"id\" and \"comment\" fields\n",
        "df_subset = df[['row_id', 'Text', 'Tweet Id']].copy()\n",
        "#data clean-up\n",
        "#remove all non-aphabet characters\n",
        "df_subset['Text'] = df_subset['Text'].str.replace(\"[^a-zA-Z#]\", \" \")\n",
        "#covert to lower-case\n",
        "df_subset['Text'] = df_subset['Text'].str.casefold()\n",
        "print (df_subset.head(10))"
      ],
      "metadata": {
        "id": "6iIAzZT8vnMM",
        "colab": {
          "base_uri": "https://localhost:8080/"
        },
        "outputId": "d302bfb8-6716-486c-88ae-f12a2365dffd"
      },
      "execution_count": 11,
      "outputs": [
        {
          "output_type": "stream",
          "name": "stdout",
          "text": [
            "   row_id                                               Text  \\\n",
            "0       1   pranavpanwar   the resolution for your stated...   \n",
            "1       2   sanjays         hi sanjay   we regret the inc...   \n",
            "2       3   amit            hi amit  we understand your c...   \n",
            "3       4   gohan         hi gohan  we ve shared the reso...   \n",
            "4       5   jayantagho      hi jayanta  sad to hear about...   \n",
            "5       6   pranavvgautam the resolution for your stated ...   \n",
            "6       7   tanujgahlot    hi tanuj  we ve shared the res...   \n",
            "7       8   sacredfeminity hi there  we understand this c...   \n",
            "8       9   kohlideepraj hi deepraj  we understand your a...   \n",
            "9      10   hiteshgarg      the resolution for your state...   \n",
            "\n",
            "              Tweet Id  \n",
            "0  1669349302681112582  \n",
            "1  1669348684532957184  \n",
            "2  1669347514661896193  \n",
            "3  1669347332671049731  \n",
            "4  1669347155683966979  \n",
            "5  1669346861885554688  \n",
            "6  1669346850045046787  \n",
            "7  1669346395252473857  \n",
            "8  1669345479417802760  \n",
            "9  1669345437529305089  \n"
          ]
        },
        {
          "output_type": "stream",
          "name": "stderr",
          "text": [
            "<ipython-input-11-366c11092932>:5: FutureWarning: The default value of regex will change from True to False in a future version.\n",
            "  df_subset['Text'] = df_subset['Text'].str.replace(\"[^a-zA-Z#]\", \" \")\n"
          ]
        }
      ]
    },
    {
      "cell_type": "code",
      "source": [
        "# set up empty dataframe for staging output\n",
        "df2=pd.DataFrame()\n",
        "df2['row_id']=['99999999999']\n",
        "df2['sentiment_type']='NA999NA'\n",
        "df2['sentiment_score']=0"
      ],
      "metadata": {
        "id": "NUTiSTVOuyzH"
      },
      "execution_count": 12,
      "outputs": []
    },
    {
      "cell_type": "code",
      "source": [
        "print('Processing sentiment analysis...')\n",
        "sid = SentimentIntensityAnalyzer()\n",
        "t_df = df2\n",
        "for index, row in df_subset.iterrows():\n",
        "    scores = sid.polarity_scores(row[1])\n",
        "    for key, value in scores.items():\n",
        "        temp = [key,value,row[0]]\n",
        "        df2['row_id']=row[0]\n",
        "        df2['sentiment_type']=key\n",
        "        df2['sentiment_score']=value\n",
        "        t_df = pd.concat([t_df, df2], ignore_index=True)\n",
        "#remove dummy row with row_id = 99999999999\n",
        "t_df_cleaned = t_df[t_df.row_id != '99999999999']\n",
        "#remove duplicates if any exist\n",
        "t_df_cleaned = t_df_cleaned.drop_duplicates()\n",
        "# only keep rows where sentiment_type = compound\n",
        "t_df_cleaned = t_df[t_df.sentiment_type == 'compound']\n",
        "print(t_df_cleaned.head(10))"
      ],
      "metadata": {
        "id": "fAZjOpQTu4qF",
        "colab": {
          "base_uri": "https://localhost:8080/"
        },
        "outputId": "c457ed1d-58e4-4bee-8e71-c2231eb55463"
      },
      "execution_count": 13,
      "outputs": [
        {
          "output_type": "stream",
          "name": "stdout",
          "text": [
            "Processing sentiment analysis...\n",
            "    row_id sentiment_type  sentiment_score\n",
            "4        1       compound           0.7506\n",
            "8        2       compound          -0.2023\n",
            "12       3       compound           0.8689\n",
            "16       4       compound           0.7906\n",
            "20       5       compound           0.1027\n",
            "24       6       compound           0.7506\n",
            "28       7       compound           0.7906\n",
            "32       8       compound           0.1027\n",
            "36       9       compound          -0.1280\n",
            "40      10       compound           0.7506\n"
          ]
        }
      ]
    },
    {
      "cell_type": "code",
      "source": [
        "#merge dataframes\n",
        "df_output2 = pd.merge(df, t_df_cleaned, on='row_id', how='inner')\n",
        "print(df_output2.head(10))"
      ],
      "metadata": {
        "id": "8CuQ6PkpxFdi",
        "colab": {
          "base_uri": "https://localhost:8080/"
        },
        "outputId": "cc3d8e11-0993-48e5-8a36-f4960c059bf8"
      },
      "execution_count": 14,
      "outputs": [
        {
          "output_type": "stream",
          "name": "stdout",
          "text": [
            "              Tweet Id                                               Text  \\\n",
            "0  1669349302681112582  @pranavpanwar17 The resolution for your stated...   \n",
            "1  1669348684532957184  @sanjays65872769 Hi Sanjay , we regret the inc...   \n",
            "2  1669347514661896193  @amit84925059864 Hi Amit, we understand your c...   \n",
            "3  1669347332671049731  @Gohan79751891 Hi Gohan, we've shared the reso...   \n",
            "4  1669347155683966979  @JayantaGho99241 Hi Jayanta, sad to hear about...   \n",
            "5  1669346861885554688  @pranavvgautam The resolution for your stated ...   \n",
            "6  1669346850045046787  @tanujgahlot007 Hi Tanuj, we've shared the res...   \n",
            "7  1669346395252473857  @sacredfeminity Hi there, we understand this c...   \n",
            "8  1669345479417802760  @KohliDeepraj Hi Deepraj, we understand your a...   \n",
            "9  1669345437529305089  @hiteshgarg72641 The resolution for your state...   \n",
            "\n",
            "          Name Screen Name                       UTC  \\\n",
            "0  zomato care  zomatocare  2023-06-15T14:21:03.000Z   \n",
            "1  zomato care  zomatocare  2023-06-15T14:18:36.000Z   \n",
            "2  zomato care  zomatocare  2023-06-15T14:13:57.000Z   \n",
            "3  zomato care  zomatocare  2023-06-15T14:13:13.000Z   \n",
            "4  zomato care  zomatocare  2023-06-15T14:12:31.000Z   \n",
            "5  zomato care  zomatocare  2023-06-15T14:11:21.000Z   \n",
            "6  zomato care  zomatocare  2023-06-15T14:11:18.000Z   \n",
            "7  zomato care  zomatocare  2023-06-15T14:09:30.000Z   \n",
            "8  zomato care  zomatocare  2023-06-15T14:05:51.000Z   \n",
            "9  zomato care  zomatocare  2023-06-15T14:05:41.000Z   \n",
            "\n",
            "                       Created At  Favorites  Retweets Language  \\\n",
            "0  Thu Jun 15 14:21:03 +0000 2023          0         0       en   \n",
            "1  Thu Jun 15 14:18:36 +0000 2023          0         0       en   \n",
            "2  Thu Jun 15 14:13:57 +0000 2023          0         0       en   \n",
            "3  Thu Jun 15 14:13:13 +0000 2023          0         0       en   \n",
            "4  Thu Jun 15 14:12:31 +0000 2023          0         0       en   \n",
            "5  Thu Jun 15 14:11:21 +0000 2023          0         0       en   \n",
            "6  Thu Jun 15 14:11:18 +0000 2023          0         0       en   \n",
            "7  Thu Jun 15 14:09:30 +0000 2023          0         0       en   \n",
            "8  Thu Jun 15 14:05:51 +0000 2023          0         0       en   \n",
            "9  Thu Jun 15 14:05:41 +0000 2023          0         0       en   \n",
            "\n",
            "                                              Client Tweet Type  \\\n",
            "0  <a href=\"https://konnectinsights.com\" rel=\"nof...      Reply   \n",
            "1  <a href=\"https://konnectinsights.com\" rel=\"nof...      Reply   \n",
            "2  <a href=\"https://konnectinsights.com\" rel=\"nof...      Reply   \n",
            "3  <a href=\"https://konnectinsights.com\" rel=\"nof...      Reply   \n",
            "4  <a href=\"https://konnectinsights.com\" rel=\"nof...      Reply   \n",
            "5  <a href=\"https://konnectinsights.com\" rel=\"nof...      Reply   \n",
            "6  <a href=\"https://konnectinsights.com\" rel=\"nof...      Reply   \n",
            "7  <a href=\"https://konnectinsights.com\" rel=\"nof...      Reply   \n",
            "8  <a href=\"https://konnectinsights.com\" rel=\"nof...      Reply   \n",
            "9  <a href=\"https://konnectinsights.com\" rel=\"nof...      Reply   \n",
            "\n",
            "                     URLs  Hashtags  Mentions Media Type Media URLs  row_id  \\\n",
            "0                     NaN         0         1        NaN        NaN       1   \n",
            "1  http://ki.show/aeVFeb          0         1        NaN        NaN       2   \n",
            "2                     NaN         0         1        NaN        NaN       3   \n",
            "3                     NaN         0         1        NaN        NaN       4   \n",
            "4  http://ki.show/HeVD6A          0         1        NaN        NaN       5   \n",
            "5                     NaN         0         1        NaN        NaN       6   \n",
            "6                     NaN         0         1        NaN        NaN       7   \n",
            "7  http://ki.show/EeVD4V          0         1        NaN        NaN       8   \n",
            "8                     NaN         0         1        NaN        NaN       9   \n",
            "9                     NaN         0         1        NaN        NaN      10   \n",
            "\n",
            "  sentiment_type  sentiment_score  \n",
            "0       compound           0.7506  \n",
            "1       compound          -0.2023  \n",
            "2       compound           0.8689  \n",
            "3       compound           0.7906  \n",
            "4       compound           0.1027  \n",
            "5       compound           0.7506  \n",
            "6       compound           0.7906  \n",
            "7       compound           0.1027  \n",
            "8       compound          -0.1280  \n",
            "9       compound           0.7506  \n"
          ]
        }
      ]
    },
    {
      "cell_type": "code",
      "source": [
        "df_output2[[\"sentiment_score\"]].describe()"
      ],
      "metadata": {
        "id": "iFx3ZOlUxLlw",
        "colab": {
          "base_uri": "https://localhost:8080/",
          "height": 300
        },
        "outputId": "d6de9710-43e0-4afe-9335-abbbf96ac1d0"
      },
      "execution_count": 15,
      "outputs": [
        {
          "output_type": "execute_result",
          "data": {
            "text/plain": [
              "       sentiment_score\n",
              "count      3192.000000\n",
              "mean          0.412138\n",
              "std           0.393373\n",
              "min          -0.840200\n",
              "25%           0.051600\n",
              "50%           0.542300\n",
              "75%           0.750600\n",
              "max           0.959300"
            ],
            "text/html": [
              "\n",
              "  <div id=\"df-0408c489-fcf3-453c-8e99-9aa107ff7faf\">\n",
              "    <div class=\"colab-df-container\">\n",
              "      <div>\n",
              "<style scoped>\n",
              "    .dataframe tbody tr th:only-of-type {\n",
              "        vertical-align: middle;\n",
              "    }\n",
              "\n",
              "    .dataframe tbody tr th {\n",
              "        vertical-align: top;\n",
              "    }\n",
              "\n",
              "    .dataframe thead th {\n",
              "        text-align: right;\n",
              "    }\n",
              "</style>\n",
              "<table border=\"1\" class=\"dataframe\">\n",
              "  <thead>\n",
              "    <tr style=\"text-align: right;\">\n",
              "      <th></th>\n",
              "      <th>sentiment_score</th>\n",
              "    </tr>\n",
              "  </thead>\n",
              "  <tbody>\n",
              "    <tr>\n",
              "      <th>count</th>\n",
              "      <td>3192.000000</td>\n",
              "    </tr>\n",
              "    <tr>\n",
              "      <th>mean</th>\n",
              "      <td>0.412138</td>\n",
              "    </tr>\n",
              "    <tr>\n",
              "      <th>std</th>\n",
              "      <td>0.393373</td>\n",
              "    </tr>\n",
              "    <tr>\n",
              "      <th>min</th>\n",
              "      <td>-0.840200</td>\n",
              "    </tr>\n",
              "    <tr>\n",
              "      <th>25%</th>\n",
              "      <td>0.051600</td>\n",
              "    </tr>\n",
              "    <tr>\n",
              "      <th>50%</th>\n",
              "      <td>0.542300</td>\n",
              "    </tr>\n",
              "    <tr>\n",
              "      <th>75%</th>\n",
              "      <td>0.750600</td>\n",
              "    </tr>\n",
              "    <tr>\n",
              "      <th>max</th>\n",
              "      <td>0.959300</td>\n",
              "    </tr>\n",
              "  </tbody>\n",
              "</table>\n",
              "</div>\n",
              "      <button class=\"colab-df-convert\" onclick=\"convertToInteractive('df-0408c489-fcf3-453c-8e99-9aa107ff7faf')\"\n",
              "              title=\"Convert this dataframe to an interactive table.\"\n",
              "              style=\"display:none;\">\n",
              "        \n",
              "  <svg xmlns=\"http://www.w3.org/2000/svg\" height=\"24px\"viewBox=\"0 0 24 24\"\n",
              "       width=\"24px\">\n",
              "    <path d=\"M0 0h24v24H0V0z\" fill=\"none\"/>\n",
              "    <path d=\"M18.56 5.44l.94 2.06.94-2.06 2.06-.94-2.06-.94-.94-2.06-.94 2.06-2.06.94zm-11 1L8.5 8.5l.94-2.06 2.06-.94-2.06-.94L8.5 2.5l-.94 2.06-2.06.94zm10 10l.94 2.06.94-2.06 2.06-.94-2.06-.94-.94-2.06-.94 2.06-2.06.94z\"/><path d=\"M17.41 7.96l-1.37-1.37c-.4-.4-.92-.59-1.43-.59-.52 0-1.04.2-1.43.59L10.3 9.45l-7.72 7.72c-.78.78-.78 2.05 0 2.83L4 21.41c.39.39.9.59 1.41.59.51 0 1.02-.2 1.41-.59l7.78-7.78 2.81-2.81c.8-.78.8-2.07 0-2.86zM5.41 20L4 18.59l7.72-7.72 1.47 1.35L5.41 20z\"/>\n",
              "  </svg>\n",
              "      </button>\n",
              "      \n",
              "  <style>\n",
              "    .colab-df-container {\n",
              "      display:flex;\n",
              "      flex-wrap:wrap;\n",
              "      gap: 12px;\n",
              "    }\n",
              "\n",
              "    .colab-df-convert {\n",
              "      background-color: #E8F0FE;\n",
              "      border: none;\n",
              "      border-radius: 50%;\n",
              "      cursor: pointer;\n",
              "      display: none;\n",
              "      fill: #1967D2;\n",
              "      height: 32px;\n",
              "      padding: 0 0 0 0;\n",
              "      width: 32px;\n",
              "    }\n",
              "\n",
              "    .colab-df-convert:hover {\n",
              "      background-color: #E2EBFA;\n",
              "      box-shadow: 0px 1px 2px rgba(60, 64, 67, 0.3), 0px 1px 3px 1px rgba(60, 64, 67, 0.15);\n",
              "      fill: #174EA6;\n",
              "    }\n",
              "\n",
              "    [theme=dark] .colab-df-convert {\n",
              "      background-color: #3B4455;\n",
              "      fill: #D2E3FC;\n",
              "    }\n",
              "\n",
              "    [theme=dark] .colab-df-convert:hover {\n",
              "      background-color: #434B5C;\n",
              "      box-shadow: 0px 1px 3px 1px rgba(0, 0, 0, 0.15);\n",
              "      filter: drop-shadow(0px 1px 2px rgba(0, 0, 0, 0.3));\n",
              "      fill: #FFFFFF;\n",
              "    }\n",
              "  </style>\n",
              "\n",
              "      <script>\n",
              "        const buttonEl =\n",
              "          document.querySelector('#df-0408c489-fcf3-453c-8e99-9aa107ff7faf button.colab-df-convert');\n",
              "        buttonEl.style.display =\n",
              "          google.colab.kernel.accessAllowed ? 'block' : 'none';\n",
              "\n",
              "        async function convertToInteractive(key) {\n",
              "          const element = document.querySelector('#df-0408c489-fcf3-453c-8e99-9aa107ff7faf');\n",
              "          const dataTable =\n",
              "            await google.colab.kernel.invokeFunction('convertToInteractive',\n",
              "                                                     [key], {});\n",
              "          if (!dataTable) return;\n",
              "\n",
              "          const docLinkHtml = 'Like what you see? Visit the ' +\n",
              "            '<a target=\"_blank\" href=https://colab.research.google.com/notebooks/data_table.ipynb>data table notebook</a>'\n",
              "            + ' to learn more about interactive tables.';\n",
              "          element.innerHTML = '';\n",
              "          dataTable['output_type'] = 'display_data';\n",
              "          await google.colab.output.renderOutput(dataTable, element);\n",
              "          const docLink = document.createElement('div');\n",
              "          docLink.innerHTML = docLinkHtml;\n",
              "          element.appendChild(docLink);\n",
              "        }\n",
              "      </script>\n",
              "    </div>\n",
              "  </div>\n",
              "  "
            ]
          },
          "metadata": {},
          "execution_count": 15
        }
      ]
    },
    {
      "cell_type": "code",
      "source": [
        "\n",
        "# Calculate the mean values of df_output1 and df_output2 for the selected columns\n",
        "mean_df1 = df_output1[[\"sentiment_score\"]].mean().values[0]\n",
        "mean_df2 = df_output2[[\"sentiment_score\"]].mean().values[0]\n",
        "\n",
        "# Create a bar plot\n",
        "plt.bar(['Swiggy', 'Zomato'], [mean_df1, mean_df2], width = 0.2)\n",
        "\n",
        "# Add labels and title\n",
        "plt.xlabel('Comapnies')\n",
        "plt.ylabel('Mean')\n",
        "plt.title('Average Sentimental Score of Tweets')\n",
        "\n",
        "for i, value in enumerate([mean_df1, mean_df2]):\n",
        "    plt.text(i, value, str(round(value, 2)), ha='center', va='bottom')\n",
        "\n",
        "# Display the plot\n",
        "plt.show()"
      ],
      "metadata": {
        "id": "w2eJOQVMB1Iw",
        "colab": {
          "base_uri": "https://localhost:8080/",
          "height": 472
        },
        "outputId": "60f198f3-0713-4352-8e48-156fb80d8d7d"
      },
      "execution_count": 16,
      "outputs": [
        {
          "output_type": "display_data",
          "data": {
            "text/plain": [
              "<Figure size 640x480 with 1 Axes>"
            ],
            "image/png": "[encoded data removed]"
          },
          "metadata": {}
        }
      ]
    }
  ]
}